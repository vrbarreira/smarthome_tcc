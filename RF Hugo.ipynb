{
 "cells": [
  {
   "cell_type": "code",
   "execution_count": 1,
   "metadata": {},
   "outputs": [],
   "source": [
    "import pandas as pd\n",
    "import numpy as np\n",
    "import datetime as dt\n",
    "from sklearn.tree import DecisionTreeClassifier\n",
    "import graphviz\n",
    "from random import * \n",
    "from sklearn import preprocessing\n",
    "from sklearn.ensemble import RandomForestClassifier\n",
    "from sklearn.model_selection import cross_val_score,GridSearchCV,cross_val_predict"
   ]
  },
  {
   "cell_type": "code",
   "execution_count": 2,
   "metadata": {},
   "outputs": [],
   "source": [
    "data = pd.read_csv(\"../classificador/Saidas/features_random_forest.csv\")\n",
    "data = data.apply(lambda x: x.replace(\"madrugada\", 0))\n",
    "data = data.apply(lambda x: x.replace(\"manha\", 1))\n",
    "data = data.apply(lambda x: x.replace(\"tarde\", 2))\n",
    "data = data.apply(lambda x: x.replace(\"noite\", 3))\n",
    "\n",
    "data = data.apply(lambda x: x.replace(True, 1))\n",
    "data = data.apply(lambda x: x.replace(False, 0))\n",
    "\n",
    "#data['Horario'] = pd.to_datetime(data['Horario'], format=\"%H:%M:%S\")\n",
    "#data['Horario'] = (data['Horario'] - dt.datetime(1900,1,1)).dt.total_seconds()\n",
    "\n",
    "data.drop(data.columns[0:2], axis=1,inplace=True)\n",
    "data.drop(data.columns[2], axis=1,inplace=True)\n",
    "data.drop(data.columns[4], axis=1,inplace=True)\n",
    "data.drop(data.columns[-1:], axis=1,inplace=True)\n",
    "\n",
    "data.drop(data.index[1274:],inplace=True)"
   ]
  },
  {
   "cell_type": "code",
   "execution_count": 3,
   "metadata": {},
   "outputs": [
    {
     "data": {
      "text/html": [
       "<div>\n",
       "<style scoped>\n",
       "    .dataframe tbody tr th:only-of-type {\n",
       "        vertical-align: middle;\n",
       "    }\n",
       "\n",
       "    .dataframe tbody tr th {\n",
       "        vertical-align: top;\n",
       "    }\n",
       "\n",
       "    .dataframe thead th {\n",
       "        text-align: right;\n",
       "    }\n",
       "</style>\n",
       "<table border=\"1\" class=\"dataframe\">\n",
       "  <thead>\n",
       "    <tr style=\"text-align: right;\">\n",
       "      <th></th>\n",
       "      <th>Hora</th>\n",
       "      <th>Minuto</th>\n",
       "      <th>Fim de Semana</th>\n",
       "      <th>Sensor Comodo</th>\n",
       "      <th>lig_desl_luz</th>\n",
       "      <th>lig_desl_aparelho</th>\n",
       "      <th>tempo_lig_luz</th>\n",
       "      <th>tempo_lig_aparelho</th>\n",
       "      <th>Id Atividade</th>\n",
       "    </tr>\n",
       "  </thead>\n",
       "  <tbody>\n",
       "    <tr>\n",
       "      <td>0</td>\n",
       "      <td>13</td>\n",
       "      <td>28</td>\n",
       "      <td>1.0</td>\n",
       "      <td>16</td>\n",
       "      <td>0</td>\n",
       "      <td>0</td>\n",
       "      <td>1.0</td>\n",
       "      <td>0.000000</td>\n",
       "      <td>5</td>\n",
       "    </tr>\n",
       "    <tr>\n",
       "      <td>1</td>\n",
       "      <td>13</td>\n",
       "      <td>28</td>\n",
       "      <td>1.0</td>\n",
       "      <td>15</td>\n",
       "      <td>0</td>\n",
       "      <td>0</td>\n",
       "      <td>1.0</td>\n",
       "      <td>0.000000</td>\n",
       "      <td>6</td>\n",
       "    </tr>\n",
       "    <tr>\n",
       "      <td>2</td>\n",
       "      <td>13</td>\n",
       "      <td>32</td>\n",
       "      <td>1.0</td>\n",
       "      <td>16</td>\n",
       "      <td>0</td>\n",
       "      <td>0</td>\n",
       "      <td>1.0</td>\n",
       "      <td>0.000000</td>\n",
       "      <td>5</td>\n",
       "    </tr>\n",
       "    <tr>\n",
       "      <td>3</td>\n",
       "      <td>13</td>\n",
       "      <td>32</td>\n",
       "      <td>1.0</td>\n",
       "      <td>15</td>\n",
       "      <td>0</td>\n",
       "      <td>0</td>\n",
       "      <td>1.0</td>\n",
       "      <td>0.000000</td>\n",
       "      <td>6</td>\n",
       "    </tr>\n",
       "    <tr>\n",
       "      <td>4</td>\n",
       "      <td>13</td>\n",
       "      <td>44</td>\n",
       "      <td>1.0</td>\n",
       "      <td>16</td>\n",
       "      <td>0</td>\n",
       "      <td>0</td>\n",
       "      <td>1.0</td>\n",
       "      <td>0.000000</td>\n",
       "      <td>5</td>\n",
       "    </tr>\n",
       "    <tr>\n",
       "      <td>...</td>\n",
       "      <td>...</td>\n",
       "      <td>...</td>\n",
       "      <td>...</td>\n",
       "      <td>...</td>\n",
       "      <td>...</td>\n",
       "      <td>...</td>\n",
       "      <td>...</td>\n",
       "      <td>...</td>\n",
       "      <td>...</td>\n",
       "    </tr>\n",
       "    <tr>\n",
       "      <td>1269</td>\n",
       "      <td>19</td>\n",
       "      <td>39</td>\n",
       "      <td>0.0</td>\n",
       "      <td>16</td>\n",
       "      <td>0</td>\n",
       "      <td>1</td>\n",
       "      <td>1.0</td>\n",
       "      <td>0.769231</td>\n",
       "      <td>5</td>\n",
       "    </tr>\n",
       "    <tr>\n",
       "      <td>1270</td>\n",
       "      <td>19</td>\n",
       "      <td>39</td>\n",
       "      <td>0.0</td>\n",
       "      <td>15</td>\n",
       "      <td>0</td>\n",
       "      <td>0</td>\n",
       "      <td>1.0</td>\n",
       "      <td>1.000000</td>\n",
       "      <td>6</td>\n",
       "    </tr>\n",
       "    <tr>\n",
       "      <td>1271</td>\n",
       "      <td>20</td>\n",
       "      <td>23</td>\n",
       "      <td>0.0</td>\n",
       "      <td>15</td>\n",
       "      <td>0</td>\n",
       "      <td>0</td>\n",
       "      <td>1.0</td>\n",
       "      <td>1.000000</td>\n",
       "      <td>6</td>\n",
       "    </tr>\n",
       "    <tr>\n",
       "      <td>1272</td>\n",
       "      <td>21</td>\n",
       "      <td>4</td>\n",
       "      <td>0.0</td>\n",
       "      <td>16</td>\n",
       "      <td>0</td>\n",
       "      <td>0</td>\n",
       "      <td>1.0</td>\n",
       "      <td>0.000000</td>\n",
       "      <td>5</td>\n",
       "    </tr>\n",
       "    <tr>\n",
       "      <td>1273</td>\n",
       "      <td>21</td>\n",
       "      <td>4</td>\n",
       "      <td>0.0</td>\n",
       "      <td>15</td>\n",
       "      <td>0</td>\n",
       "      <td>1</td>\n",
       "      <td>1.0</td>\n",
       "      <td>0.375000</td>\n",
       "      <td>6</td>\n",
       "    </tr>\n",
       "  </tbody>\n",
       "</table>\n",
       "<p>1274 rows × 9 columns</p>\n",
       "</div>"
      ],
      "text/plain": [
       "      Hora  Minuto  Fim de Semana  Sensor Comodo  lig_desl_luz  \\\n",
       "0       13      28            1.0             16             0   \n",
       "1       13      28            1.0             15             0   \n",
       "2       13      32            1.0             16             0   \n",
       "3       13      32            1.0             15             0   \n",
       "4       13      44            1.0             16             0   \n",
       "...    ...     ...            ...            ...           ...   \n",
       "1269    19      39            0.0             16             0   \n",
       "1270    19      39            0.0             15             0   \n",
       "1271    20      23            0.0             15             0   \n",
       "1272    21       4            0.0             16             0   \n",
       "1273    21       4            0.0             15             0   \n",
       "\n",
       "      lig_desl_aparelho  tempo_lig_luz  tempo_lig_aparelho  Id Atividade  \n",
       "0                     0            1.0            0.000000             5  \n",
       "1                     0            1.0            0.000000             6  \n",
       "2                     0            1.0            0.000000             5  \n",
       "3                     0            1.0            0.000000             6  \n",
       "4                     0            1.0            0.000000             5  \n",
       "...                 ...            ...                 ...           ...  \n",
       "1269                  1            1.0            0.769231             5  \n",
       "1270                  0            1.0            1.000000             6  \n",
       "1271                  0            1.0            1.000000             6  \n",
       "1272                  0            1.0            0.000000             5  \n",
       "1273                  1            1.0            0.375000             6  \n",
       "\n",
       "[1274 rows x 9 columns]"
      ]
     },
     "execution_count": 3,
     "metadata": {},
     "output_type": "execute_result"
    }
   ],
   "source": [
    "data"
   ]
  },
  {
   "cell_type": "code",
   "execution_count": 4,
   "metadata": {},
   "outputs": [],
   "source": [
    "#label_encoder = preprocessing.LabelEncoder()\n",
    "#data['Horario'] = label_encoder.fit_transform(data['Horario'])"
   ]
  },
  {
   "cell_type": "code",
   "execution_count": 5,
   "metadata": {},
   "outputs": [
    {
     "name": "stdout",
     "output_type": "stream",
     "text": [
      "[1144, 100, 842, 163, 434, 564, 905, 1263, 883, 7, 813, 965, 121, 265, 864, 544, 204, 214, 478, 484, 12, 1058, 907, 503, 677, 416, 715, 963, 425, 420, 772, 280, 538, 1221, 149, 169, 232, 980, 897, 480, 333, 162, 358, 385, 1270, 8, 1123, 1271, 845, 473]\n"
     ]
    }
   ],
   "source": [
    "j = 0\n",
    "lista_indice = []\n",
    "while True:\n",
    "\tnum = randint(0,len(data) - 1)\n",
    "\tadd =True\n",
    "\tfor element in lista_indice:\n",
    "\t\tif num == element:\n",
    "\t\t\tadd = False\n",
    "\tif add:\n",
    "\t\tlista_indice.append(num)\n",
    "\tif len(lista_indice) == 50:\n",
    "\t\tbreak\n",
    "\n",
    "print(lista_indice)"
   ]
  },
  {
   "cell_type": "code",
   "execution_count": 6,
   "metadata": {},
   "outputs": [],
   "source": [
    "val = pd.DataFrame(columns = data.columns)\n",
    "j = 0\n",
    "for element in lista_indice:\n",
    "\tval.loc[j] = data.loc[element]\n",
    "\tdata.drop([element],inplace=True)\n",
    "\tj += 1\n",
    "data.reset_index(drop=True, inplace =True)"
   ]
  },
  {
   "cell_type": "code",
   "execution_count": 50,
   "metadata": {},
   "outputs": [],
   "source": [
    "################# data train and test_x #################################################\n",
    "\n",
    "features = list(data.columns[0:-1])\n",
    "target = data.columns[-1:]"
   ]
  },
  {
   "cell_type": "code",
   "execution_count": 51,
   "metadata": {},
   "outputs": [],
   "source": [
    "train_x = data[features]\t# train data\n",
    "train_y = data[target] \t\t# train data\n",
    "test_x = val[features] \t\t# test data \n",
    "test_y = val[target]\t\t# test data\n",
    "\n",
    "df_test2 = pd.DataFrame(columns = data.columns)\n",
    "#df_test2.loc[0] = [(dt.datetime(1900,1,1,6,15,0) - dt.datetime(1900,1,1)).total_seconds(),1.0,17,0,0,0.0,0.0,2]\n",
    "df_test2.loc[0] = [6,30,1.0,17,0,0,0.0,0.0,2]\n",
    "test2x = df_test2[features]\n",
    "test2y = df_test2[target]"
   ]
  },
  {
   "cell_type": "code",
   "execution_count": 52,
   "metadata": {},
   "outputs": [
    {
     "data": {
      "text/plain": [
       "(      Hora  Minuto  Fim de Semana  Sensor Comodo  lig_desl_luz  \\\n",
       " 0       13      28            1.0             16             0   \n",
       " 1       13      28            1.0             15             0   \n",
       " 2       13      32            1.0             16             0   \n",
       " 3       13      32            1.0             15             0   \n",
       " 4       13      44            1.0             16             0   \n",
       " ...    ...     ...            ...            ...           ...   \n",
       " 1219    19      30            0.0             15             0   \n",
       " 1220    19      36            0.0             15             0   \n",
       " 1221    19      39            0.0             16             0   \n",
       " 1222    21       4            0.0             16             0   \n",
       " 1223    21       4            0.0             15             0   \n",
       " \n",
       "       lig_desl_aparelho  tempo_lig_luz  tempo_lig_aparelho  \n",
       " 0                     0            1.0            0.000000  \n",
       " 1                     0            1.0            0.000000  \n",
       " 2                     0            1.0            0.000000  \n",
       " 3                     0            1.0            0.000000  \n",
       " 4                     0            1.0            0.000000  \n",
       " ...                 ...            ...                 ...  \n",
       " 1219                  0            1.0            1.000000  \n",
       " 1220                  0            1.0            1.000000  \n",
       " 1221                  1            1.0            0.769231  \n",
       " 1222                  0            1.0            0.000000  \n",
       " 1223                  1            1.0            0.375000  \n",
       " \n",
       " [1224 rows x 8 columns],       Id Atividade\n",
       " 0                5\n",
       " 1                6\n",
       " 2                5\n",
       " 3                6\n",
       " 4                5\n",
       " ...            ...\n",
       " 1219             6\n",
       " 1220             6\n",
       " 1221             5\n",
       " 1222             5\n",
       " 1223             6\n",
       " \n",
       " [1224 rows x 1 columns])"
      ]
     },
     "execution_count": 52,
     "metadata": {},
     "output_type": "execute_result"
    }
   ],
   "source": [
    "train_x, train_y"
   ]
  },
  {
   "cell_type": "code",
   "execution_count": 53,
   "metadata": {},
   "outputs": [
    {
     "data": {
      "text/plain": [
       "(   Hora  Minuto  Fim de Semana  Sensor Comodo  lig_desl_luz  \\\n",
       " 0   6.0    30.0            1.0           17.0           0.0   \n",
       " \n",
       "    lig_desl_aparelho  tempo_lig_luz  tempo_lig_aparelho  \n",
       " 0                0.0            0.0                 0.0  ,    Id Atividade\n",
       " 0           2.0)"
      ]
     },
     "execution_count": 53,
     "metadata": {},
     "output_type": "execute_result"
    }
   ],
   "source": [
    "test2x, test2y"
   ]
  },
  {
   "cell_type": "code",
   "execution_count": 54,
   "metadata": {},
   "outputs": [
    {
     "name": "stdout",
     "output_type": "stream",
     "text": [
      "1.0 1.0\n"
     ]
    }
   ],
   "source": [
    "########################################### tree ########################################\n",
    "clf_tree = DecisionTreeClassifier()\n",
    "#clf_tree.fit(train_x,train_y)\n",
    "\n",
    "grid_tree = GridSearchCV(clf_tree, {}, cv=10)\n",
    "grid_tree.fit(train_x, train_y)\n",
    "tree = DecisionTreeClassifier().fit(train_x,train_y)\n",
    "tree_cross = grid_tree.best_estimator_\n",
    "\n",
    "print(tree_cross.score(test2x,test2y), tree.score(test2x,test2y))\n",
    "\n",
    "#result = tree.predict(test_x)"
   ]
  },
  {
   "cell_type": "code",
   "execution_count": 55,
   "metadata": {},
   "outputs": [
    {
     "name": "stdout",
     "output_type": "stream",
     "text": [
      "0.0 0.0\n"
     ]
    },
    {
     "name": "stderr",
     "output_type": "stream",
     "text": [
      "c:\\users\\victor\\appdata\\local\\programs\\python\\python37-32\\lib\\site-packages\\sklearn\\model_selection\\_search.py:814: DeprecationWarning: The default of the `iid` parameter will change from True to False in version 0.22 and will be removed in 0.24. This will change numeric results when test-set sizes are unequal.\n",
      "  DeprecationWarning)\n",
      "c:\\users\\victor\\appdata\\local\\programs\\python\\python37-32\\lib\\site-packages\\sklearn\\ensemble\\forest.py:245: FutureWarning: The default value of n_estimators will change from 10 in version 0.20 to 100 in 0.22.\n",
      "  \"10 in version 0.20 to 100 in 0.22.\", FutureWarning)\n"
     ]
    }
   ],
   "source": [
    "###################################### forest #########################################\n",
    "clf_forest = RandomForestClassifier()\n",
    "train_y = np.reshape(train_y.to_numpy(),-1)\n",
    "\n",
    "param_grid = {\n",
    "                 'n_estimators': [5, 10, 15, 20],\n",
    "  \t\t\t\t 'max_depth': [2, 5, 7, 9]\n",
    "  \t\t\t}\n",
    "\n",
    "grid_forest = GridSearchCV(clf_forest, param_grid, cv=10)\n",
    "grid_forest.fit(train_x, train_y)\n",
    "forest = RandomForestClassifier().fit(train_x,train_y)\n",
    "forest_cross = grid_forest.best_estimator_\n",
    "print(forest_cross.score(test2x.values, test2y.values), forest.score(test2x.values, test2y.values))\n",
    "\n",
    "\n",
    "\n",
    "#forest = RandomForestClassifier(n_estimators=100, max_depth=4,random_state=0)\n",
    "#forest.fit(train_x, train_y)\n",
    "#print(forest.predict_proba(test_x.values),forest.predict([[0.3,0.6,0.7,0.5]]))"
   ]
  },
  {
   "cell_type": "code",
   "execution_count": null,
   "metadata": {},
   "outputs": [],
   "source": []
  }
 ],
 "metadata": {
  "kernelspec": {
   "display_name": "Python 3",
   "language": "python",
   "name": "python3"
  },
  "language_info": {
   "codemirror_mode": {
    "name": "ipython",
    "version": 3
   },
   "file_extension": ".py",
   "mimetype": "text/x-python",
   "name": "python",
   "nbconvert_exporter": "python",
   "pygments_lexer": "ipython3",
   "version": "3.7.4"
  }
 },
 "nbformat": 4,
 "nbformat_minor": 2
}
